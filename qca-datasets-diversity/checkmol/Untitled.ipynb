{
 "cells": [
  {
   "cell_type": "code",
   "execution_count": 16,
   "id": "9011e952-47b9-4398-a8e0-7c6d131fa290",
   "metadata": {},
   "outputs": [],
   "source": [
    "from rdkit import Chem\n",
    "from rdkit.Chem import AllChem"
   ]
  },
  {
   "cell_type": "code",
   "execution_count": 65,
   "id": "5452955b-daaf-4a0e-a458-339b10cf260c",
   "metadata": {},
   "outputs": [
    {
     "data": {
      "image/png": "[encoded data removed]",
      "text/plain": [
       "<rdkit.Chem.rdchem.Mol at 0x184308b30>"
      ]
     },
     "execution_count": 65,
     "metadata": {},
     "output_type": "execute_result"
    }
   ],
   "source": [
    "query = Chem.MolFromSmarts(\n",
    "    \"[#6X3:1](=[#16X1:2])(-[#6])-[#6]\"\n",
    ")\n",
    "query"
   ]
  },
  {
   "cell_type": "code",
   "execution_count": 52,
   "id": "d7ff5190-8579-4115-9ae0-925a7b29df98",
   "metadata": {},
   "outputs": [
    {
     "data": {
      "image/png": "[encoded data removed]",
      "text/plain": [
       "<rdkit.Chem.rdchem.Mol at 0x176701000>"
      ]
     },
     "execution_count": 52,
     "metadata": {},
     "output_type": "execute_result"
    }
   ],
   "source": [
    "mol = Chem.MolFromSmiles(\"OC(C)(O)O\")\n",
    "mol"
   ]
  },
  {
   "cell_type": "code",
   "execution_count": 53,
   "id": "9f571dae-c75d-45c9-8402-931d233d9aae",
   "metadata": {},
   "outputs": [
    {
     "data": {
      "text/plain": [
       "()"
      ]
     },
     "execution_count": 53,
     "metadata": {},
     "output_type": "execute_result"
    }
   ],
   "source": [
    "mol.GetSubstructMatches(query)"
   ]
  },
  {
   "cell_type": "code",
   "execution_count": 60,
   "id": "c045af46-7e5c-4c15-bdf0-997f4bd8114c",
   "metadata": {},
   "outputs": [],
   "source": [
    "import pyarrow.dataset as ds\n",
    "import pyarrow.compute as pc"
   ]
  },
  {
   "cell_type": "code",
   "execution_count": 58,
   "id": "7a0fb73f-2051-40cf-8432-53494bc997f5",
   "metadata": {},
   "outputs": [],
   "source": [
    "labels = ds.dataset(\"../../labels/checkmol/\")"
   ]
  },
  {
   "cell_type": "code",
   "execution_count": 61,
   "id": "d91d3733-90a8-48a7-94b0-99f4e488fdc9",
   "metadata": {},
   "outputs": [
    {
     "data": {
      "text/html": [
       "<div>\n",
       "<style scoped>\n",
       "    .dataframe tbody tr th:only-of-type {\n",
       "        vertical-align: middle;\n",
       "    }\n",
       "\n",
       "    .dataframe tbody tr th {\n",
       "        vertical-align: top;\n",
       "    }\n",
       "\n",
       "    .dataframe thead th {\n",
       "        text-align: right;\n",
       "    }\n",
       "</style>\n",
       "<table border=\"1\" class=\"dataframe\">\n",
       "  <thead>\n",
       "    <tr style=\"text-align: right;\">\n",
       "      <th></th>\n",
       "      <th>smiles</th>\n",
       "    </tr>\n",
       "  </thead>\n",
       "  <tbody>\n",
       "    <tr>\n",
       "      <th>0</th>\n",
       "      <td>NC(=O)[C@@H]1CC[C@@H]2CN1C(=O)N2OS(=O)(=O)[O-]</td>\n",
       "    </tr>\n",
       "    <tr>\n",
       "      <th>1</th>\n",
       "      <td>O=S([O-])([O-])=S</td>\n",
       "    </tr>\n",
       "    <tr>\n",
       "      <th>2</th>\n",
       "      <td>O=S(=O)(O)O</td>\n",
       "    </tr>\n",
       "    <tr>\n",
       "      <th>3</th>\n",
       "      <td>CC(O)=NOS(=O)(=O)O</td>\n",
       "    </tr>\n",
       "    <tr>\n",
       "      <th>4</th>\n",
       "      <td>N=COS(=O)(=O)O</td>\n",
       "    </tr>\n",
       "  </tbody>\n",
       "</table>\n",
       "</div>"
      ],
      "text/plain": [
       "                                           smiles\n",
       "0  NC(=O)[C@@H]1CC[C@@H]2CN1C(=O)N2OS(=O)(=O)[O-]\n",
       "1                               O=S([O-])([O-])=S\n",
       "2                                     O=S(=O)(O)O\n",
       "3                              CC(O)=NOS(=O)(=O)O\n",
       "4                                  N=COS(=O)(=O)O"
      ]
     },
     "execution_count": 61,
     "metadata": {},
     "output_type": "execute_result"
    }
   ],
   "source": [
    "labels.filter(pc.field(\"Sulfuric Acid\")).to_table(columns=[\"smiles\"]).to_pandas()"
   ]
  },
  {
   "cell_type": "code",
   "execution_count": 62,
   "id": "6534fa65-da75-47ae-b6c6-3d30a1e7428a",
   "metadata": {},
   "outputs": [
    {
     "data": {
      "image/png": "[encoded data removed]",
      "text/plain": [
       "<rdkit.Chem.rdchem.Mol at 0x184308900>"
      ]
     },
     "execution_count": 62,
     "metadata": {},
     "output_type": "execute_result"
    }
   ],
   "source": [
    "Chem.MolFromSmiles(\"CC(O)=NOS(=O)(=O)O\")"
   ]
  },
  {
   "cell_type": "code",
   "execution_count": null,
   "id": "66fe3ba0-8c65-4e4b-ba35-450f1d71981c",
   "metadata": {},
   "outputs": [],
   "source": []
  }
 ],
 "metadata": {
  "kernelspec": {
   "display_name": "Python (openff-nagl-test)",
   "language": "python",
   "name": "openff-nagl-test"
  },
  "language_info": {
   "codemirror_mode": {
    "name": "ipython",
    "version": 3
   },
   "file_extension": ".py",
   "mimetype": "text/x-python",
   "name": "python",
   "nbconvert_exporter": "python",
   "pygments_lexer": "ipython3",
   "version": "3.10.13"
  }
 },
 "nbformat": 4,
 "nbformat_minor": 5
}
