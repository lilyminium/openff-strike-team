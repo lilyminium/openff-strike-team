{
 "cells": [
  {
   "cell_type": "code",
   "execution_count": 1,
   "id": "d891b86a-6229-4e95-8961-2d4ac19b4d40",
   "metadata": {},
   "outputs": [],
   "source": [
    "import functools\n",
    "import seaborn as sns\n",
    "from matplotlib import pyplot as plt\n",
    "import matplotlib as mpl\n",
    "\n",
    "sns.set_context(\"talk\")\n",
    "mpl.rcParams['font.sans-serif'] = [\"muli\"]\n",
    "\n",
    "%matplotlib inline"
   ]
  },
  {
   "cell_type": "code",
   "execution_count": 2,
   "id": "0c48a7b6-7968-4aea-ab77-9f1d6305c15e",
   "metadata": {},
   "outputs": [],
   "source": [
    "import pyarrow.dataset as ds\n",
    "import pyarrow.compute as pc\n",
    "import pandas as pd\n",
    "from openff.toolkit import Molecule, ForceField\n",
    "import tqdm"
   ]
  },
  {
   "cell_type": "code",
   "execution_count": 3,
   "id": "25df85eb-1c29-4107-94a4-43b8badef4fe",
   "metadata": {},
   "outputs": [],
   "source": [
    "def _get_column(dataset, column: str):\n",
    "    return dataset.to_table(columns=[column]).to_pydict()[column]"
   ]
  },
  {
   "cell_type": "code",
   "execution_count": 4,
   "id": "1a405ab9-18f0-4534-8d48-03c2afb3cec6",
   "metadata": {},
   "outputs": [
    {
     "data": {
      "text/plain": [
       "type: string\n",
       "qcarchive_id: int64\n",
       "cmiles: string\n",
       "inchi_key: string\n",
       "smiles: string\n",
       "dataset: string\n",
       "specification: string\n",
       "torsiondrive_id: int64\n",
       "dihedral_indices: list<element: list<element: int64>>\n",
       "  child 0, element: list<element: int64>\n",
       "      child 0, element: int64\n",
       "grid_ids: list<element: int64>\n",
       "  child 0, element: int64\n",
       "-- schema metadata --\n",
       "pandas: '{\"index_columns\": [{\"kind\": \"range\", \"name\": null, \"start\": 0, \"' + 1462"
      ]
     },
     "execution_count": 4,
     "metadata": {},
     "output_type": "execute_result"
    }
   ],
   "source": [
    "dataset = ds.dataset(\"tables\")\n",
    "dataset.schema"
   ]
  },
  {
   "cell_type": "code",
   "execution_count": 5,
   "id": "4eb0ef63-63f3-4dd7-957d-9444fd78427e",
   "metadata": {},
   "outputs": [
    {
     "data": {
      "text/plain": [
       "931105"
      ]
     },
     "execution_count": 5,
     "metadata": {},
     "output_type": "execute_result"
    }
   ],
   "source": [
    "dataset.count_rows()"
   ]
  },
  {
   "cell_type": "code",
   "execution_count": 6,
   "id": "e303b5fc-d779-4acf-81f2-2549e9999e30",
   "metadata": {},
   "outputs": [],
   "source": [
    "smiles = _get_column(dataset, \"smiles\")[0]"
   ]
  },
  {
   "cell_type": "code",
   "execution_count": 78,
   "id": "531e0f64-9291-4887-95d7-cc0ae39fb8e9",
   "metadata": {},
   "outputs": [
    {
     "data": {
      "text/plain": [
       "'[NH3+]C12CC3CC(CC(C3)C1)C2'"
      ]
     },
     "execution_count": 78,
     "metadata": {},
     "output_type": "execute_result"
    }
   ],
   "source": [
    "smiles"
   ]
  },
  {
   "cell_type": "code",
   "execution_count": 80,
   "id": "5eeb1d70-7478-4e74-8e05-7eee2b5ba716",
   "metadata": {},
   "outputs": [
    {
     "data": {
      "text/html": [
       "<div>\n",
       "<style scoped>\n",
       "    .dataframe tbody tr th:only-of-type {\n",
       "        vertical-align: middle;\n",
       "    }\n",
       "\n",
       "    .dataframe tbody tr th {\n",
       "        vertical-align: top;\n",
       "    }\n",
       "\n",
       "    .dataframe thead th {\n",
       "        text-align: right;\n",
       "    }\n",
       "</style>\n",
       "<table border=\"1\" class=\"dataframe\">\n",
       "  <thead>\n",
       "    <tr style=\"text-align: right;\">\n",
       "      <th></th>\n",
       "      <th>type</th>\n",
       "      <th>qcarchive_id</th>\n",
       "      <th>cmiles</th>\n",
       "      <th>inchi_key</th>\n",
       "      <th>smiles</th>\n",
       "      <th>dataset</th>\n",
       "      <th>specification</th>\n",
       "      <th>torsiondrive_id</th>\n",
       "      <th>dihedral_indices</th>\n",
       "      <th>grid_ids</th>\n",
       "    </tr>\n",
       "  </thead>\n",
       "  <tbody>\n",
       "    <tr>\n",
       "      <th>0</th>\n",
       "      <td>optimization</td>\n",
       "      <td>6092820</td>\n",
       "      <td>[H:12][C:1]1([C:7]2([C:2]([C:9]3([C:3]([C:8]1(...</td>\n",
       "      <td>DKNWSYNQZKUICI-IFTCQQCTNA-O</td>\n",
       "      <td>[NH3+]C12CC3CC(CC(C3)C1)C2</td>\n",
       "      <td>FDA Optimization Dataset 1</td>\n",
       "      <td>default</td>\n",
       "      <td>-1</td>\n",
       "      <td>[[-1, -1, -1, -1]]</td>\n",
       "      <td>[-1]</td>\n",
       "    </tr>\n",
       "    <tr>\n",
       "      <th>1</th>\n",
       "      <td>optimization</td>\n",
       "      <td>6092820</td>\n",
       "      <td>[H:12][C:1]1([C:7]2([C:2]([C:9]3([C:3]([C:8]1(...</td>\n",
       "      <td>DKNWSYNQZKUICI-IFTCQQCTNA-O</td>\n",
       "      <td>[NH3+]C12CC3CC(CC(C3)C1)C2</td>\n",
       "      <td>OpenFF Full Optimization Benchmark 1</td>\n",
       "      <td>default</td>\n",
       "      <td>-1</td>\n",
       "      <td>[[-1, -1, -1, -1]]</td>\n",
       "      <td>[-1]</td>\n",
       "    </tr>\n",
       "  </tbody>\n",
       "</table>\n",
       "</div>"
      ],
      "text/plain": [
       "           type  qcarchive_id  \\\n",
       "0  optimization       6092820   \n",
       "1  optimization       6092820   \n",
       "\n",
       "                                              cmiles  \\\n",
       "0  [H:12][C:1]1([C:7]2([C:2]([C:9]3([C:3]([C:8]1(...   \n",
       "1  [H:12][C:1]1([C:7]2([C:2]([C:9]3([C:3]([C:8]1(...   \n",
       "\n",
       "                     inchi_key                      smiles  \\\n",
       "0  DKNWSYNQZKUICI-IFTCQQCTNA-O  [NH3+]C12CC3CC(CC(C3)C1)C2   \n",
       "1  DKNWSYNQZKUICI-IFTCQQCTNA-O  [NH3+]C12CC3CC(CC(C3)C1)C2   \n",
       "\n",
       "                                dataset specification  torsiondrive_id  \\\n",
       "0            FDA Optimization Dataset 1       default               -1   \n",
       "1  OpenFF Full Optimization Benchmark 1       default               -1   \n",
       "\n",
       "     dihedral_indices grid_ids  \n",
       "0  [[-1, -1, -1, -1]]     [-1]  \n",
       "1  [[-1, -1, -1, -1]]     [-1]  "
      ]
     },
     "execution_count": 80,
     "metadata": {},
     "output_type": "execute_result"
    }
   ],
   "source": [
    "df2 = dataset.filter(pc.field(\"smiles\") == smiles).to_table().to_pandas()\n",
    "df2"
   ]
  },
  {
   "cell_type": "code",
   "execution_count": null,
   "id": "06a08f2f-65c9-4cb2-b6f8-7dfc3b0cb2ef",
   "metadata": {},
   "outputs": [],
   "source": []
  },
  {
   "cell_type": "code",
   "execution_count": 7,
   "id": "01c923e6-fe8a-4ff9-a024-f24881126f2b",
   "metadata": {},
   "outputs": [
    {
     "name": "stdout",
     "output_type": "stream",
     "text": [
      "66391\n"
     ]
    }
   ],
   "source": [
    "inchis = set(_get_column(dataset, \"inchi_key\"))\n",
    "print(len(inchis))"
   ]
  },
  {
   "cell_type": "code",
   "execution_count": 47,
   "id": "0a041e71-911d-46d0-9c01-02079962f54a",
   "metadata": {},
   "outputs": [],
   "source": [
    "@functools.cache\n",
    "def _profile(smi: str) -> int:\n",
    "    mol = Molecule.from_smiles(smi, allow_undefined_stereo=True)\n",
    "    n_atoms = mol.n_atoms\n",
    "    total_charge = sum([atom.formal_charge for atom in mol.atoms]).m\n",
    "    n_heavy_atoms = sum(1 for atom in mol.atoms if atom.atomic_number != 1)\n",
    "    total_weight = sum(atom.mass for atom in mol.atoms).m\n",
    "    return {\"n_atoms\": n_atoms, \"total_charge\": total_charge, \"n_heavy_atoms\": n_heavy_atoms, \"mw\": total_weight}"
   ]
  },
  {
   "cell_type": "code",
   "execution_count": 48,
   "id": "3ac3c727-6b1f-4fee-b9d8-110927f725ab",
   "metadata": {},
   "outputs": [
    {
     "name": "stderr",
     "output_type": "stream",
     "text": [
      "100%|████████████████████████████████| 931105/931105 [01:26<00:00, 10716.41it/s]\n"
     ]
    }
   ],
   "source": [
    "entries = [\n",
    "    _profile(x) for x in tqdm.tqdm(_get_column(dataset, \"smiles\"))\n",
    "]"
   ]
  },
  {
   "cell_type": "code",
   "execution_count": 49,
   "id": "545da2c4-05bb-4e99-b4b3-03cf92b98856",
   "metadata": {},
   "outputs": [],
   "source": [
    "df = pd.DataFrame(entries)"
   ]
  },
  {
   "cell_type": "code",
   "execution_count": 50,
   "id": "9ff0d6e2-9d03-4590-939a-9c255999ad07",
   "metadata": {},
   "outputs": [],
   "source": [
    "n_qcarchive_id = len(set(_get_column(dataset, \"qcarchive_id\")))"
   ]
  },
  {
   "cell_type": "code",
   "execution_count": 51,
   "id": "2afe08e7-b52d-4f30-9def-64f2491af1a4",
   "metadata": {},
   "outputs": [
    {
     "data": {
      "text/plain": [
       "764675"
      ]
     },
     "execution_count": 51,
     "metadata": {},
     "output_type": "execute_result"
    }
   ],
   "source": [
    "n_qcarchive_id"
   ]
  },
  {
   "cell_type": "code",
   "execution_count": 52,
   "id": "79a1b330-2756-421f-9e1d-b3969aca0e05",
   "metadata": {},
   "outputs": [
    {
     "data": {
      "text/html": [
       "<div>\n",
       "<style scoped>\n",
       "    .dataframe tbody tr th:only-of-type {\n",
       "        vertical-align: middle;\n",
       "    }\n",
       "\n",
       "    .dataframe tbody tr th {\n",
       "        vertical-align: top;\n",
       "    }\n",
       "\n",
       "    .dataframe thead th {\n",
       "        text-align: right;\n",
       "    }\n",
       "</style>\n",
       "<table border=\"1\" class=\"dataframe\">\n",
       "  <thead>\n",
       "    <tr style=\"text-align: right;\">\n",
       "      <th></th>\n",
       "      <th>n_atoms</th>\n",
       "      <th>total_charge</th>\n",
       "      <th>n_heavy_atoms</th>\n",
       "      <th>mw</th>\n",
       "    </tr>\n",
       "  </thead>\n",
       "  <tbody>\n",
       "    <tr>\n",
       "      <th>0</th>\n",
       "      <td>29</td>\n",
       "      <td>1</td>\n",
       "      <td>11</td>\n",
       "      <td>152.257566</td>\n",
       "    </tr>\n",
       "    <tr>\n",
       "      <th>1</th>\n",
       "      <td>23</td>\n",
       "      <td>0</td>\n",
       "      <td>17</td>\n",
       "      <td>295.725222</td>\n",
       "    </tr>\n",
       "    <tr>\n",
       "      <th>2</th>\n",
       "      <td>25</td>\n",
       "      <td>0</td>\n",
       "      <td>17</td>\n",
       "      <td>297.741116</td>\n",
       "    </tr>\n",
       "    <tr>\n",
       "      <th>3</th>\n",
       "      <td>23</td>\n",
       "      <td>0</td>\n",
       "      <td>17</td>\n",
       "      <td>295.725222</td>\n",
       "    </tr>\n",
       "    <tr>\n",
       "      <th>4</th>\n",
       "      <td>25</td>\n",
       "      <td>0</td>\n",
       "      <td>17</td>\n",
       "      <td>297.741116</td>\n",
       "    </tr>\n",
       "    <tr>\n",
       "      <th>...</th>\n",
       "      <td>...</td>\n",
       "      <td>...</td>\n",
       "      <td>...</td>\n",
       "      <td>...</td>\n",
       "    </tr>\n",
       "    <tr>\n",
       "      <th>931100</th>\n",
       "      <td>13</td>\n",
       "      <td>0</td>\n",
       "      <td>6</td>\n",
       "      <td>90.096582</td>\n",
       "    </tr>\n",
       "    <tr>\n",
       "      <th>931101</th>\n",
       "      <td>13</td>\n",
       "      <td>0</td>\n",
       "      <td>6</td>\n",
       "      <td>90.096582</td>\n",
       "    </tr>\n",
       "    <tr>\n",
       "      <th>931102</th>\n",
       "      <td>13</td>\n",
       "      <td>0</td>\n",
       "      <td>6</td>\n",
       "      <td>90.096582</td>\n",
       "    </tr>\n",
       "    <tr>\n",
       "      <th>931103</th>\n",
       "      <td>13</td>\n",
       "      <td>0</td>\n",
       "      <td>6</td>\n",
       "      <td>90.096582</td>\n",
       "    </tr>\n",
       "    <tr>\n",
       "      <th>931104</th>\n",
       "      <td>13</td>\n",
       "      <td>0</td>\n",
       "      <td>6</td>\n",
       "      <td>90.096582</td>\n",
       "    </tr>\n",
       "  </tbody>\n",
       "</table>\n",
       "<p>931105 rows × 4 columns</p>\n",
       "</div>"
      ],
      "text/plain": [
       "        n_atoms  total_charge  n_heavy_atoms          mw\n",
       "0            29             1             11  152.257566\n",
       "1            23             0             17  295.725222\n",
       "2            25             0             17  297.741116\n",
       "3            23             0             17  295.725222\n",
       "4            25             0             17  297.741116\n",
       "...         ...           ...            ...         ...\n",
       "931100       13             0              6   90.096582\n",
       "931101       13             0              6   90.096582\n",
       "931102       13             0              6   90.096582\n",
       "931103       13             0              6   90.096582\n",
       "931104       13             0              6   90.096582\n",
       "\n",
       "[931105 rows x 4 columns]"
      ]
     },
     "execution_count": 52,
     "metadata": {},
     "output_type": "execute_result"
    }
   ],
   "source": [
    "df"
   ]
  },
  {
   "cell_type": "code",
   "execution_count": 53,
   "id": "cc398e31-9dfd-4dd1-af16-58ff8d323826",
   "metadata": {},
   "outputs": [
    {
     "data": {
      "image/png": "[encoded data removed]",
      "text/plain": [
       "<Figure size 600x400 with 1 Axes>"
      ]
     },
     "metadata": {},
     "output_type": "display_data"
    }
   ],
   "source": [
    "fig, ax = plt.subplots(figsize=(6, 4))\n",
    "ax = sns.histplot(\n",
    "    ax=ax,\n",
    "    data=df.n_atoms,\n",
    "    binrange=(0, 180),\n",
    "    binwidth=10,\n",
    ")\n",
    "ax.set_xlabel(\"# atoms\")\n",
    "plt.yscale(\"log\")\n",
    "plt.tight_layout()\n",
    "plt.savefig(\"images/n_atoms.png\", dpi=300)"
   ]
  },
  {
   "cell_type": "code",
   "execution_count": 54,
   "id": "70a13d27-81d6-4e5e-a55d-67bc88768df1",
   "metadata": {},
   "outputs": [
    {
     "data": {
      "text/plain": [
       "82"
      ]
     },
     "execution_count": 54,
     "metadata": {},
     "output_type": "execute_result"
    }
   ],
   "source": [
    "df.n_heavy_atoms.max()"
   ]
  },
  {
   "cell_type": "code",
   "execution_count": 55,
   "id": "9fef380d-1472-4890-8bcf-65fef8208e11",
   "metadata": {},
   "outputs": [
    {
     "data": {
      "image/png": "[encoded data removed]",
      "text/plain": [
       "<Figure size 600x400 with 1 Axes>"
      ]
     },
     "metadata": {},
     "output_type": "display_data"
    }
   ],
   "source": [
    "fig, ax = plt.subplots(figsize=(6, 4))\n",
    "ax = sns.histplot(\n",
    "    ax=ax,\n",
    "    data=df.n_heavy_atoms,\n",
    "    binrange=(0, 100),\n",
    "    binwidth=5,\n",
    ")\n",
    "ax.set_xlabel(\"# heavy atoms\")\n",
    "plt.yscale(\"log\")\n",
    "plt.tight_layout()\n",
    "plt.savefig(\"images/n_heavy_atoms.png\", dpi=300)"
   ]
  },
  {
   "cell_type": "code",
   "execution_count": 56,
   "id": "8f268829-277b-48b3-bafa-644b68aa8653",
   "metadata": {},
   "outputs": [
    {
     "data": {
      "text/plain": [
       "3"
      ]
     },
     "execution_count": 56,
     "metadata": {},
     "output_type": "execute_result"
    }
   ],
   "source": [
    "df.total_charge.max()"
   ]
  },
  {
   "cell_type": "code",
   "execution_count": 46,
   "id": "ab1544c0-7896-490a-9602-2b9348907e55",
   "metadata": {},
   "outputs": [
    {
     "data": {
      "image/png": "[encoded data removed]",
      "text/plain": [
       "<Figure size 600x400 with 1 Axes>"
      ]
     },
     "metadata": {},
     "output_type": "display_data"
    }
   ],
   "source": [
    "fig, ax = plt.subplots(figsize=(6, 4))\n",
    "ax = sns.histplot(\n",
    "    ax=ax,\n",
    "    data=df.total_charge,\n",
    "    binrange=(-4, 3),\n",
    "    binwidth=1,\n",
    ")\n",
    "ax.set_xlabel(\"Total charge\")\n",
    "plt.yscale(\"log\")\n",
    "plt.tight_layout()\n",
    "plt.savefig(\"images/total_charge.png\", dpi=300)"
   ]
  },
  {
   "cell_type": "code",
   "execution_count": 65,
   "id": "7cce28df-eab5-4134-971e-7c037407a319",
   "metadata": {},
   "outputs": [
    {
     "data": {
      "text/plain": [
       "1105.1603120000018"
      ]
     },
     "execution_count": 65,
     "metadata": {},
     "output_type": "execute_result"
    }
   ],
   "source": [
    "df.mw.max()"
   ]
  },
  {
   "cell_type": "code",
   "execution_count": 69,
   "id": "494fbbf9-837d-4d7a-babc-d1625f07e460",
   "metadata": {},
   "outputs": [
    {
     "data": {
      "image/png": "[encoded data removed]",
      "text/plain": [
       "<Figure size 600x400 with 1 Axes>"
      ]
     },
     "metadata": {},
     "output_type": "display_data"
    }
   ],
   "source": [
    "fig, ax = plt.subplots(figsize=(6, 4))\n",
    "ax = sns.histplot(\n",
    "    ax=ax,\n",
    "    data=df.mw,\n",
    "    binrange=(10, 1110),\n",
    "    binwidth=20,\n",
    ")\n",
    "ax.set_xlabel(\"Total mass\")\n",
    "plt.yscale(\"log\")\n",
    "plt.tight_layout()\n",
    "plt.savefig(\"images/mw.png\", dpi=300)"
   ]
  },
  {
   "cell_type": "code",
   "execution_count": 64,
   "id": "fd6cbbbe-a398-4f84-a83b-27200bc4cd12",
   "metadata": {},
   "outputs": [
    {
     "data": {
      "text/plain": [
       "180"
      ]
     },
     "execution_count": 64,
     "metadata": {},
     "output_type": "execute_result"
    }
   ],
   "source": [
    "round(178, -1)"
   ]
  },
  {
   "cell_type": "code",
   "execution_count": 62,
   "id": "db8e547b-b272-43f2-89c7-73e1866f768c",
   "metadata": {},
   "outputs": [
    {
     "name": "stdout",
     "output_type": "stream",
     "text": [
      "Help on built-in function round in module builtins:\n",
      "\n",
      "round(number, ndigits=None)\n",
      "    Round a number to a given precision in decimal digits.\n",
      "    \n",
      "    The return value is an integer if ndigits is omitted or None.  Otherwise\n",
      "    the return value has the same type as the number.  ndigits may be negative.\n",
      "\n"
     ]
    }
   ],
   "source": [
    "help(round)"
   ]
  },
  {
   "cell_type": "code",
   "execution_count": 24,
   "id": "0ff4d3dd-e2ec-4da7-983b-c8ac183b5601",
   "metadata": {},
   "outputs": [
    {
     "data": {
      "text/plain": [
       "1,2 Aminoalcohol: bool\n",
       "1,2 Diol: bool\n",
       "1,2 Diphenol: bool\n",
       "Acetal: bool\n",
       "Acyl Bromide: bool\n",
       "Acyl Chloride: bool\n",
       "Acyl Cyanide: bool\n",
       "Acyl Fluoride: bool\n",
       "Acyl Halide: bool\n",
       "Acyl Iodide: bool\n",
       "Alcohol: bool\n",
       "Aldehyde: bool\n",
       "Alkane: bool\n",
       "Alkene: bool\n",
       "Alkyl Bromide: bool\n",
       "Alkyl Chloride: bool\n",
       "Alkyl Fluoride: bool\n",
       "Alkyl Halide: bool\n",
       "Alkyl Iodide: bool\n",
       "Alkylarylether: bool\n",
       "Alkylthiol: bool\n",
       "Alkyne: bool\n",
       "Alpha Aminoacid: bool\n",
       "Alpha Hydroxyacid: bool\n",
       "Aminal: bool\n",
       "Amine: bool\n",
       "Anion: bool\n",
       "Aqueous: bool\n",
       "Aromatic: bool\n",
       "Aryl Bromide: bool\n",
       "Aryl Chloride: bool\n",
       "Aryl Fluoride: bool\n",
       "Aryl Halide: bool\n",
       "Aryl Iodide: bool\n",
       "Arylthiol: bool\n",
       "Azide: bool\n",
       "Azo Compound: bool\n",
       "Boronic Acid: bool\n",
       "Boronic Acid Derivative: bool\n",
       "Boronic Acid Ester: bool\n",
       "CO2 Derivative: bool\n",
       "Carbamic Acid: bool\n",
       "Carbamic Acid Derivative: bool\n",
       "Carbamic Acid Ester: bool\n",
       "Carbamic Acid Halide: bool\n",
       "Carbodiimide: bool\n",
       "Carbonic Acid Derivative: bool\n",
       "Carbonic Acid Diester: bool\n",
       "Carbonic Acid Ester Halide: bool\n",
       "Carbonic Acid Monoester: bool\n",
       "Carbonyl: bool\n",
       "Carbonyl Hydrate: bool\n",
       "Carboxylic Acid: bool\n",
       "Carboxylic Acid Amide: bool\n",
       "Carboxylic Acid Amide Acetal: bool\n",
       "Carboxylic Acid Amidine: bool\n",
       "Carboxylic Acid Amidrazone: bool\n",
       "Carboxylic Acid Anhydride: bool\n",
       "Carboxylic Acid Azide: bool\n",
       "Carboxylic Acid Derivative: bool\n",
       "Carboxylic Acid Ester: bool\n",
       "Carboxylic Acid Hydrazide: bool\n",
       "Carboxylic Acid Imide: bool\n",
       "Carboxylic Acid Orthoester: bool\n",
       "Carboxylic Acid Primary Amide: bool\n",
       "Carboxylic Acid Salt: bool\n",
       "Carboxylic Acid Secondary Amide: bool\n",
       "Carboxylic Acid Subst Imide: bool\n",
       "Carboxylic Acid Tertiary Amide: bool\n",
       "Carboxylic Acid Unsubst Imide: bool\n",
       "Cation: bool\n",
       "Cyanate: bool\n",
       "Dialkylether: bool\n",
       "Diarylether: bool\n",
       "Diazonium Salt: bool\n",
       "Disulfide: bool\n",
       "Enamine: bool\n",
       "Enediol: bool\n",
       "Enol: bool\n",
       "Enolether: bool\n",
       "Ether: bool\n",
       "Guanidine: bool\n",
       "Halogen Derivative: bool\n",
       "Hemiacetal: bool\n",
       "Hemiaminal: bool\n",
       "Heterocycle: bool\n",
       "Hydrazine: bool\n",
       "Hydrazone: bool\n",
       "Hydroperoxide: bool\n",
       "Hydroxamic Acid: bool\n",
       "Hydroxy: bool\n",
       "Hydroxylamine: bool\n",
       "Imido Ester: bool\n",
       "Imido Thioester: bool\n",
       "Imidoyl Halide: bool\n",
       "Imine: bool\n",
       "Iminohetarene: bool\n",
       "Isocyanate: bool\n",
       "Isonitrile: bool\n",
       "Isothiocyanate: bool\n",
       "Isothiourea: bool\n",
       "Isourea: bool\n",
       "Ketene: bool\n",
       "Ketene Acetal Derivative: bool\n",
       "Ketone: bool\n",
       "Lactam: bool\n",
       "Lactone: bool\n",
       "NOxide: bool\n",
       "Nitrate: bool\n",
       "Nitrile: bool\n",
       "Nitrite: bool\n",
       "Nitro Compound: bool\n",
       "Nitroso Compound: bool\n",
       "Organolithium: bool\n",
       "Organomagnesium: bool\n",
       "Organometallic: bool\n",
       "Orthocarboxylic Acid Derivative: bool\n",
       "Oxime: bool\n",
       "Oxime Ether: bool\n",
       "Oxohetarene: bool\n",
       "Peroxide: bool\n",
       "Phenol: bool\n",
       "Phosphine: bool\n",
       "Phosphinoxide: bool\n",
       "Phosphonic Acid: bool\n",
       "Phosphonic Acid Derivative: bool\n",
       "Phosphonic Acid Ester: bool\n",
       "Phosphoric Acid: bool\n",
       "Phosphoric Acid Amide: bool\n",
       "Phosphoric Acid Derivative: bool\n",
       "Phosphoric Acid Ester: bool\n",
       "Phosphoric Acid Halide: bool\n",
       "Primary Alcohol: bool\n",
       "Primary Aliphatic Amine: bool\n",
       "Primary Amine: bool\n",
       "Primary Aromatic Amine: bool\n",
       "Quart Ammonium: bool\n",
       "Secondary Alcohol: bool\n",
       "Secondary Aliphatic Amine: bool\n",
       "Secondary Amine: bool\n",
       "Secondary Aromatic Amine: bool\n",
       "Secondary Mixed Amine: bool\n",
       "Semicarbazide: bool\n",
       "Semicarbazone: bool\n",
       "Sulfenic Acid: bool\n",
       "Sulfenic Acid Amide: bool\n",
       "Sulfenic Acid Derivative: bool\n",
       "Sulfenic Acid Ester: bool\n",
       "Sulfenic Acid Halide: bool\n",
       "Sulfinic Acid: bool\n",
       "Sulfinic Acid Amide: bool\n",
       "Sulfinic Acid Derivative: bool\n",
       "Sulfinic Acid Ester: bool\n",
       "Sulfinic Acid Halide: bool\n",
       "Sulfonamide: bool\n",
       "Sulfone: bool\n",
       "Sulfonic Acid: bool\n",
       "Sulfonic Acid Derivative: bool\n",
       "Sulfonic Acid Ester: bool\n",
       "Sulfonyl Halide: bool\n",
       "Sulfoxide: bool\n",
       "Sulfuric Acid: bool\n",
       "Sulfuric Acid Amide: bool\n",
       "Sulfuric Acid Amide Ester: bool\n",
       "Sulfuric Acid Derivative: bool\n",
       "Sulfuric Acid Diamide: bool\n",
       "Sulfuric Acid Diester: bool\n",
       "Sulfuric Acid Monoester: bool\n",
       "Sulfuryl Halide: bool\n",
       "Tertiary Alcohol: bool\n",
       "Tertiary Aliphatic Amine: bool\n",
       "Tertiary Amine: bool\n",
       "Tertiary Aromatic Amine: bool\n",
       "Tertiary Mixed Amine: bool\n",
       "Thioacetal: bool\n",
       "Thioaldehyde: bool\n",
       "Thiocarbamic Acid: bool\n",
       "Thiocarbamic Acid Derivative: bool\n",
       "Thiocarbamic Acid Ester: bool\n",
       "Thiocarbamic Acid Halide: bool\n",
       "Thiocarbonic Acid Derivative: bool\n",
       "Thiocarbonic Acid Diester: bool\n",
       "Thiocarbonic Acid Ester Halide: bool\n",
       "Thiocarbonic Acid Monoester: bool\n",
       "Thiocarbonyl: bool\n",
       "Thiocarboxylic Acid: bool\n",
       "Thiocarboxylic Acid Amide: bool\n",
       "Thiocarboxylic Acid Derivative: bool\n",
       "Thiocarboxylic Acid Ester: bool\n",
       "Thiocyanate: bool\n",
       "Thioether: bool\n",
       "Thiohemiaminal: bool\n",
       "Thioketone: bool\n",
       "Thiol: bool\n",
       "Thiolactam: bool\n",
       "Thiolactone: bool\n",
       "Thiophosphoric Acid: bool\n",
       "Thiophosphoric Acid Amide: bool\n",
       "Thiophosphoric Acid Derivative: bool\n",
       "Thiophosphoric Acid Ester: bool\n",
       "Thiophosphoric Acid Halide: bool\n",
       "Thiosemicarbazide: bool\n",
       "Thiosemicarbazone: bool\n",
       "Thiourea: bool\n",
       "Thioxohetarene: bool\n",
       "Urea: bool\n",
       "smiles: string\n",
       "inchi: string"
      ]
     },
     "execution_count": 24,
     "metadata": {},
     "output_type": "execute_result"
    }
   ],
   "source": [
    "dataset = ds.dataset(\"labels/checkmol/\")\n",
    "dataset.schema"
   ]
  },
  {
   "cell_type": "code",
   "execution_count": 25,
   "id": "40976f12-d25a-407c-ad86-d1742002a90c",
   "metadata": {},
   "outputs": [
    {
     "data": {
      "text/plain": [
       "65923"
      ]
     },
     "execution_count": 25,
     "metadata": {},
     "output_type": "execute_result"
    }
   ],
   "source": [
    "dataset.count_rows()"
   ]
  },
  {
   "cell_type": "code",
   "execution_count": 26,
   "id": "f3a5e99f-456e-4768-8a48-3abfd5391f15",
   "metadata": {},
   "outputs": [],
   "source": [
    "df = dataset.to_table().to_pandas()"
   ]
  },
  {
   "cell_type": "code",
   "execution_count": 27,
   "id": "b44f9abb-4448-4e0b-8594-114e60f86149",
   "metadata": {},
   "outputs": [],
   "source": [
    "columns = df.columns[:-2] # last is smiles and InChI\n",
    "counts = df[columns].sum()"
   ]
  },
  {
   "cell_type": "code",
   "execution_count": 28,
   "id": "8697c410-a6b7-407c-ae14-88ef6d15ca3a",
   "metadata": {},
   "outputs": [
    {
     "data": {
      "text/plain": [
       "Ketene                            0\n",
       "Organolithium                     0\n",
       "Organomagnesium                   0\n",
       "Organometallic                    0\n",
       "Phosphoric Acid                   0\n",
       "                              ...  \n",
       "Ether                         11119\n",
       "Carboxylic Acid Derivative    15521\n",
       "Oxohetarene                   21083\n",
       "Aromatic                      45590\n",
       "Heterocycle                   55032\n",
       "Length: 206, dtype: int64"
      ]
     },
     "execution_count": 28,
     "metadata": {},
     "output_type": "execute_result"
    }
   ],
   "source": [
    "counts.sort_values()"
   ]
  },
  {
   "cell_type": "code",
   "execution_count": 154,
   "id": "2ec5d59b-d3ac-4123-a134-36c82a32fbb4",
   "metadata": {},
   "outputs": [],
   "source": [
    "counts.sort_values(ascending=False).to_csv(\"counts.csv\")"
   ]
  },
  {
   "cell_type": "code",
   "execution_count": 142,
   "id": "5793d546-2510-4896-93f5-5eace7a88680",
   "metadata": {},
   "outputs": [
    {
     "name": "stdout",
     "output_type": "stream",
     "text": [
      "1,2 Aminoalcohol\n",
      "1,2 Diol\n",
      "1,2 Diphenol\n",
      "Acetal\n",
      "Acyl Bromide\n",
      "Acyl Chloride\n",
      "Acyl Cyanide\n",
      "Acyl Fluoride\n",
      "Acyl Halide\n",
      "Acyl Iodide\n",
      "Alcohol\n",
      "Aldehyde\n",
      "Alkane\n",
      "Alkene\n",
      "Alkyl Bromide\n",
      "Alkyl Chloride\n",
      "Alkyl Fluoride\n",
      "Alkyl Halide\n",
      "Alkyl Iodide\n",
      "Alkylarylether\n",
      "Alkylthiol\n",
      "Alkyne\n",
      "Alpha Aminoacid\n",
      "Alpha Hydroxyacid\n",
      "Aminal\n",
      "Amine\n",
      "Anion\n",
      "Aqueous\n",
      "Aromatic\n",
      "Aryl Bromide\n",
      "Aryl Chloride\n",
      "Aryl Fluoride\n",
      "Aryl Halide\n",
      "Aryl Iodide\n",
      "Arylthiol\n",
      "Azide\n",
      "Azo Compound\n",
      "Boronic Acid\n",
      "Boronic Acid Derivative\n",
      "Boronic Acid Ester\n",
      "CO2 Derivative\n",
      "Carbamic Acid\n",
      "Carbamic Acid Derivative\n",
      "Carbamic Acid Ester\n",
      "Carbamic Acid Halide\n",
      "Carbodiimide\n",
      "Carbonic Acid Derivative\n",
      "Carbonic Acid Diester\n",
      "Carbonic Acid Ester Halide\n",
      "Carbonic Acid Monoester\n",
      "Carbonyl\n",
      "Carbonyl Hydrate\n",
      "Carboxylic Acid\n",
      "Carboxylic Acid Amide\n",
      "Carboxylic Acid Amide Acetal\n",
      "Carboxylic Acid Amidine\n",
      "Carboxylic Acid Amidrazone\n",
      "Carboxylic Acid Anhydride\n",
      "Carboxylic Acid Azide\n",
      "Carboxylic Acid Derivative\n",
      "Carboxylic Acid Ester\n",
      "Carboxylic Acid Hydrazide\n",
      "Carboxylic Acid Imide\n",
      "Carboxylic Acid Orthoester\n",
      "Carboxylic Acid Primary Amide\n",
      "Carboxylic Acid Salt\n",
      "Carboxylic Acid Secondary Amide\n",
      "Carboxylic Acid Subst Imide\n",
      "Carboxylic Acid Tertiary Amide\n",
      "Carboxylic Acid Unsubst Imide\n",
      "Cation\n",
      "Cyanate\n",
      "Dialkylether\n",
      "Diarylether\n",
      "Diazonium Salt\n",
      "Disulfide\n",
      "Enamine\n",
      "Enediol\n",
      "Enol\n",
      "Enolether\n",
      "Ether\n",
      "Guanidine\n",
      "Halogen Derivative\n",
      "Hemiacetal\n",
      "Hemiaminal\n",
      "Heterocycle\n",
      "Hydrazine\n",
      "Hydrazone\n",
      "Hydroperoxide\n",
      "Hydroxamic Acid\n",
      "Hydroxy\n",
      "Hydroxylamine\n",
      "Imido Ester\n",
      "Imido Thioester\n",
      "Imidoyl Halide\n",
      "Imine\n",
      "Iminohetarene\n",
      "Isocyanate\n",
      "Isonitrile\n",
      "Isothiocyanate\n",
      "Isothiourea\n",
      "Isourea\n",
      "Ketene\n",
      "Ketene Acetal Derivative\n",
      "Ketone\n",
      "Lactam\n",
      "Lactone\n",
      "NOxide\n",
      "Nitrate\n",
      "Nitrile\n",
      "Nitrite\n",
      "Nitro Compound\n",
      "Nitroso Compound\n",
      "Organolithium\n",
      "Organomagnesium\n",
      "Organometallic\n",
      "Orthocarboxylic Acid Derivative\n",
      "Oxime\n",
      "Oxime Ether\n",
      "Oxohetarene\n",
      "Peroxide\n",
      "Phenol\n",
      "Phosphine\n",
      "Phosphinoxide\n",
      "Phosphonic Acid\n",
      "Phosphonic Acid Derivative\n",
      "Phosphonic Acid Ester\n",
      "Phosphoric Acid\n",
      "Phosphoric Acid Amide\n",
      "Phosphoric Acid Derivative\n",
      "Phosphoric Acid Ester\n",
      "Phosphoric Acid Halide\n",
      "Primary Alcohol\n",
      "Primary Aliphatic Amine\n",
      "Primary Amine\n",
      "Primary Aromatic Amine\n",
      "Quart Ammonium\n",
      "Secondary Alcohol\n",
      "Secondary Aliphatic Amine\n",
      "Secondary Amine\n",
      "Secondary Aromatic Amine\n",
      "Secondary Mixed Amine\n",
      "Semicarbazide\n",
      "Semicarbazone\n",
      "Sulfenic Acid\n",
      "Sulfenic Acid Amide\n",
      "Sulfenic Acid Derivative\n",
      "Sulfenic Acid Ester\n",
      "Sulfenic Acid Halide\n",
      "Sulfinic Acid\n",
      "Sulfinic Acid Amide\n",
      "Sulfinic Acid Derivative\n",
      "Sulfinic Acid Ester\n",
      "Sulfinic Acid Halide\n",
      "Sulfonamide\n",
      "Sulfone\n",
      "Sulfonic Acid\n",
      "Sulfonic Acid Derivative\n",
      "Sulfonic Acid Ester\n",
      "Sulfonyl Halide\n",
      "Sulfoxide\n",
      "Sulfuric Acid\n",
      "Sulfuric Acid Amide\n",
      "Sulfuric Acid Amide Ester\n",
      "Sulfuric Acid Derivative\n",
      "Sulfuric Acid Diamide\n",
      "Sulfuric Acid Diester\n",
      "Sulfuric Acid Monoester\n",
      "Sulfuryl Halide\n",
      "Tertiary Alcohol\n",
      "Tertiary Aliphatic Amine\n",
      "Tertiary Amine\n",
      "Tertiary Aromatic Amine\n",
      "Tertiary Mixed Amine\n",
      "Thioacetal\n",
      "Thioaldehyde\n",
      "Thiocarbamic Acid\n",
      "Thiocarbamic Acid Derivative\n",
      "Thiocarbamic Acid Ester\n",
      "Thiocarbamic Acid Halide\n",
      "Thiocarbonic Acid Derivative\n",
      "Thiocarbonic Acid Diester\n",
      "Thiocarbonic Acid Ester Halide\n",
      "Thiocarbonic Acid Monoester\n",
      "Thiocarbonyl\n",
      "Thiocarboxylic Acid\n",
      "Thiocarboxylic Acid Amide\n",
      "Thiocarboxylic Acid Derivative\n",
      "Thiocarboxylic Acid Ester\n",
      "Thiocyanate\n",
      "Thioether\n",
      "Thiohemiaminal\n",
      "Thioketone\n",
      "Thiol\n",
      "Thiolactam\n",
      "Thiolactone\n",
      "Thiophosphoric Acid\n",
      "Thiophosphoric Acid Amide\n",
      "Thiophosphoric Acid Derivative\n",
      "Thiophosphoric Acid Ester\n",
      "Thiophosphoric Acid Halide\n",
      "Thiosemicarbazide\n",
      "Thiosemicarbazone\n",
      "Thiourea\n",
      "Thioxohetarene\n",
      "Urea\n"
     ]
    }
   ],
   "source": [
    "for x in columns:\n",
    "    print(x)"
   ]
  },
  {
   "cell_type": "code",
   "execution_count": 30,
   "id": "5b721cfb-5c0e-4ed8-9016-961d9304c9db",
   "metadata": {},
   "outputs": [],
   "source": [
    "import re"
   ]
  },
  {
   "cell_type": "code",
   "execution_count": 31,
   "id": "d5460e2c-b453-4e16-9bbe-088621936c48",
   "metadata": {},
   "outputs": [
    {
     "data": {
      "text/plain": [
       "Azide                           56\n",
       "Azo Compound                   424\n",
       "Carboxylic Acid Amidrazone      34\n",
       "Carboxylic Acid Azide            1\n",
       "Carboxylic Acid Hydrazide     1038\n",
       "Diazonium Salt                   8\n",
       "Hydrazine                     1916\n",
       "Hydrazone                      528\n",
       "Semicarbazide                   27\n",
       "Semicarbazone                   25\n",
       "Thiosemicarbazide                6\n",
       "Thiosemicarbazone                9\n",
       "dtype: int64"
      ]
     },
     "execution_count": 31,
     "metadata": {},
     "output_type": "execute_result"
    }
   ],
   "source": [
    "counts[[bool(re.search(\"[Aa]z\", x)) for x in counts.index]]"
   ]
  },
  {
   "cell_type": "code",
   "execution_count": 32,
   "id": "709e8af7-21fd-49d6-9bbf-fe21baad9adc",
   "metadata": {},
   "outputs": [
    {
     "data": {
      "text/plain": [
       "Alkane    287\n",
       "dtype: int64"
      ]
     },
     "execution_count": 32,
     "metadata": {},
     "output_type": "execute_result"
    }
   ],
   "source": [
    "counts[[\"Alkane\"]]"
   ]
  },
  {
   "cell_type": "code",
   "execution_count": 103,
   "id": "11bb75d6-d05f-47e1-84c2-c5cae701c5eb",
   "metadata": {},
   "outputs": [
    {
     "data": {
      "text/plain": [
       "([0, 1, 2, 3, 4, 5, 6, 7, 8, 9, 10, 11],\n",
       " [Text(0, 0, '1,2 Aminoalcohol'),\n",
       "  Text(1, 0, '1,2 Diol'),\n",
       "  Text(2, 0, '1,2 Diphenol'),\n",
       "  Text(3, 0, 'Alcohol'),\n",
       "  Text(4, 0, 'Enediol'),\n",
       "  Text(5, 0, 'Enol'),\n",
       "  Text(6, 0, 'Enolether'),\n",
       "  Text(7, 0, 'Organolithium'),\n",
       "  Text(8, 0, 'Phenol'),\n",
       "  Text(9, 0, 'Primary Alcohol'),\n",
       "  Text(10, 0, 'Secondary Alcohol'),\n",
       "  Text(11, 0, 'Tertiary Alcohol')])"
      ]
     },
     "execution_count": 103,
     "metadata": {},
     "output_type": "execute_result"
    },
    {
     "data": {
      "image/png": "[encoded data removed]",
      "text/plain": [
       "<Figure size 800x400 with 1 Axes>"
      ]
     },
     "metadata": {},
     "output_type": "display_data"
    }
   ],
   "source": [
    "fig, ax = plt.subplots(figsize=(8, 4))\n",
    "\n",
    "ax = sns.barplot(\n",
    "    ax=ax,\n",
    "    data=counts[[(\"ol\" in x) and (\"hiol\" not in x) and (\"organoli\" not in x) for x in counts.index]],\n",
    ")\n",
    "plt.xticks(rotation=90)"
   ]
  },
  {
   "cell_type": "code",
   "execution_count": 160,
   "id": "748d97ad-6014-4e8f-b796-ac4f29994e7a",
   "metadata": {},
   "outputs": [
    {
     "data": {
      "text/plain": [
       "Acyl Cyanide                  2\n",
       "Aqueous                       1\n",
       "CO2 Derivative                5\n",
       "Carbamic Acid Halide          1\n",
       "Carbodiimide                  1\n",
       "Carbonic Acid Ester Halide    1\n",
       "Carbonic Acid Monoester       3\n",
       "Carboxylic Acid Azide         1\n",
       "Carboxylic Acid Orthoester    3\n",
       "Cyanate                       1\n",
       "Enediol                       1\n",
       "Nitrite                       1\n",
       "Phosphoric Acid Halide        2\n",
       "Sulfenic Acid                 2\n",
       "Sulfenic Acid Ester           1\n",
       "Sulfinic Acid Ester           3\n",
       "Sulfinic Acid Halide          2\n",
       "Sulfuric Acid                 5\n",
       "Sulfuric Acid Diester         4\n",
       "Tertiary Aromatic Amine       5\n",
       "Thioketone                    5\n",
       "dtype: int64"
      ]
     },
     "execution_count": 160,
     "metadata": {},
     "output_type": "execute_result"
    }
   ],
   "source": [
    "counts[(counts > 0) & (counts <=5)]"
   ]
  },
  {
   "cell_type": "code",
   "execution_count": null,
   "id": "211b4d22-5c23-45f3-971d-49e5420924fe",
   "metadata": {},
   "outputs": [],
   "source": [
    "counts"
   ]
  },
  {
   "cell_type": "code",
   "execution_count": 19,
   "id": "b90faa54-2c1a-41a1-8231-92f9f5199f0a",
   "metadata": {},
   "outputs": [
    {
     "data": {
      "text/plain": [
       "array(['NNc1nncc2ccccc12', 'N/N=c1\\\\[nH]ncc2ccccc12',\n",
       "       'NNc1[nH+]ncc2ccccc12', ..., 'CN/N=C(\\\\O)N(C)C', 'CN/N=C(/O)N(C)C',\n",
       "       'N#CS(=O)(=O)c1ccc(NN)cc1'], dtype=object)"
      ]
     },
     "execution_count": 19,
     "metadata": {},
     "output_type": "execute_result"
    }
   ],
   "source": [
    "dataset.filter(pc.field(\"Hydrazine\")).to_table(columns=[\"smiles\", \"inchi\"]).to_pandas().smiles.values"
   ]
  },
  {
   "cell_type": "code",
   "execution_count": 20,
   "id": "71ae1853-b759-4483-ac7a-9da6363d1cfa",
   "metadata": {},
   "outputs": [
    {
     "data": {
      "image/png": "[encoded data removed]",
      "text/plain": [
       "<rdkit.Chem.rdchem.Mol at 0x193c1d000>"
      ]
     },
     "execution_count": 20,
     "metadata": {},
     "output_type": "execute_result"
    }
   ],
   "source": [
    "from rdkit import Chem\n",
    "\n",
    "Chem.MolFromSmiles(\"N#CS(=O)(=O)c1ccc(NN)cc1\")"
   ]
  },
  {
   "cell_type": "code",
   "execution_count": 22,
   "id": "40dc513a-b44d-4c0c-a42a-4f498f959049",
   "metadata": {},
   "outputs": [],
   "source": [
    "dataset = ds.dataset(\"labels/forcefield-parameters/openff-2.2.0\")"
   ]
  },
  {
   "cell_type": "code",
   "execution_count": 28,
   "id": "88712afc-a59e-4198-9b57-ede9d374fbdc",
   "metadata": {},
   "outputs": [],
   "source": [
    "df = dataset.to_table().to_pandas()\n",
    "columns = df.columns[:-4]\n",
    "counts = df[columns].sum()"
   ]
  },
  {
   "cell_type": "code",
   "execution_count": 29,
   "id": "0adeff22-8527-48c8-9e73-511951af3608",
   "metadata": {},
   "outputs": [
    {
     "data": {
      "text/plain": [
       "Index(['b1', 'b2', 'b3', 'b4', 'b5', 'b6', 'b7', 'b8', 'b9', 'b10',\n",
       "       ...\n",
       "       'n33', 'n34', 'n35', 'n-tip3p-O', 'n-tip3p-H', 'n36', 'c1', 'smiles',\n",
       "       'inchi', 'forcefield'],\n",
       "      dtype='object', length=363)"
      ]
     },
     "execution_count": 29,
     "metadata": {},
     "output_type": "execute_result"
    }
   ],
   "source": [
    "df.columns"
   ]
  },
  {
   "cell_type": "code",
   "execution_count": 31,
   "id": "ae32d901-aa74-4395-a8a2-e77447f953d5",
   "metadata": {},
   "outputs": [],
   "source": [
    "subcounts = counts[[x.startswith(\"b\") for x in counts.index]]"
   ]
  },
  {
   "cell_type": "code",
   "execution_count": 32,
   "id": "bf08afd8-c973-411d-9a02-9ff95c6411cc",
   "metadata": {},
   "outputs": [
    {
     "data": {
      "text/plain": [
       "b1     29459\n",
       "b2     17919\n",
       "b3      7734\n",
       "b4     35448\n",
       "b5     24744\n",
       "       ...  \n",
       "b84    36879\n",
       "b85    49876\n",
       "b86      191\n",
       "b87    32056\n",
       "b88    13524\n",
       "Length: 90, dtype: int64"
      ]
     },
     "execution_count": 32,
     "metadata": {},
     "output_type": "execute_result"
    }
   ],
   "source": [
    "subcounts[0:100]"
   ]
  },
  {
   "cell_type": "code",
   "execution_count": 25,
   "id": "ea1e9563-f4bf-4a72-8133-bc5e5bc13b57",
   "metadata": {},
   "outputs": [
    {
     "data": {
      "image/png": "[encoded data removed]",
      "text/plain": [
       "<Figure size 2500x400 with 1 Axes>"
      ]
     },
     "metadata": {},
     "output_type": "display_data"
    }
   ],
   "source": [
    "fig, ax = plt.subplots(figsize=(25, 4))\n",
    "\n",
    "ax = sns.barplot(\n",
    "    ax=ax,\n",
    "    data=counts[[x.startswith(\"b\") for x in counts.index]]\n",
    ")\n",
    "plt.yscale(\"log\")\n",
    "plt.xticks(rotation=90);\n",
    "plt.tight_layout()\n",
    "ax.set_title(\"openff-2.2.0 Bonds\")\n",
    "plt.savefig(\"images/openff-2.2.0_Bonds_total.png\", dpi=300)"
   ]
  },
  {
   "cell_type": "code",
   "execution_count": 3,
   "id": "1be48656-8c08-454f-bb7c-369f160189da",
   "metadata": {},
   "outputs": [],
   "source": [
    "ff = ForceField(\"openff-2.2.0.offxml\")\n",
    "bond_handler = ff.get_parameter_handler(\"Bonds\")"
   ]
  },
  {
   "cell_type": "code",
   "execution_count": 55,
   "id": "ee41ea65-4451-4f07-89c2-4b73ecb01fcf",
   "metadata": {},
   "outputs": [
    {
     "data": {
      "text/plain": [
       "[<BondType with smirks: [#16X2:1]=[#8X1,#7X2:2]  id: b55  length: 1.5213240050039034 angstrom  k: 992.5556417122765 kilocalorie_per_mole / angstrom ** 2  >]"
      ]
     },
     "execution_count": 55,
     "metadata": {},
     "output_type": "execute_result"
    }
   ],
   "source": [
    "bond_handler.get_parameter({\"id\": \"b55\"})"
   ]
  },
  {
   "cell_type": "code",
   "execution_count": 56,
   "id": "78ad5622-a0e3-445f-abdc-cfaf6c79c1f0",
   "metadata": {},
   "outputs": [],
   "source": [
    "angle_handler = ff.get_parameter_handler(\"Angles\")"
   ]
  },
  {
   "cell_type": "code",
   "execution_count": 57,
   "id": "79dbb144-ed3c-4de4-b68a-635513474fab",
   "metadata": {},
   "outputs": [
    {
     "data": {
      "text/plain": [
       "44"
      ]
     },
     "execution_count": 57,
     "metadata": {},
     "output_type": "execute_result"
    }
   ],
   "source": [
    "len(angle_handler.parameters)"
   ]
  },
  {
   "cell_type": "code",
   "execution_count": 62,
   "id": "83594e6f-4e51-486a-a2e2-57a0d463b868",
   "metadata": {},
   "outputs": [
    {
     "data": {
      "text/plain": [
       "[<AngleType with smirks: [*:1]-[#8X2+1:2]=[*:3]  angle: 122.99227453817346 degree  k: 323.7005670962272 kilocalorie_per_mole / radian ** 2  id: a30  >]"
      ]
     },
     "execution_count": 62,
     "metadata": {},
     "output_type": "execute_result"
    }
   ],
   "source": [
    "angle_handler.get_parameter({\"id\": \"a30\"})"
   ]
  },
  {
   "cell_type": "code",
   "execution_count": 4,
   "id": "c86fd942-987f-4e0e-8ee9-45e093c438e7",
   "metadata": {},
   "outputs": [],
   "source": [
    "torsion_handler = ff.get_parameter_handler(\"ProperTorsions\")"
   ]
  },
  {
   "cell_type": "code",
   "execution_count": 21,
   "id": "e238ee93-79e9-441d-a008-4a103f85d984",
   "metadata": {},
   "outputs": [
    {
     "data": {
      "text/plain": [
       "[<ProperTorsionType with smirks: [#1:1]-[#6X4:2]-[#7X3$(*@1-[*]=,:[*][*]=,:[*]@1):3]-[*:4]  periodicity1: 2  phase1: 180.0 degree  id: t57  k1: 0.840277035679 kilocalorie / mole  idivf1: 1.0  >]"
      ]
     },
     "execution_count": 21,
     "metadata": {},
     "output_type": "execute_result"
    }
   ],
   "source": [
    "torsion_handler.get_parameter({\"id\": \"t57\"})"
   ]
  },
  {
   "cell_type": "code",
   "execution_count": null,
   "id": "ade65e9e-6b30-4436-bbd9-4742dba1b67b",
   "metadata": {},
   "outputs": [],
   "source": []
  }
 ],
 "metadata": {
  "kernelspec": {
   "display_name": "Python (openff-nagl-test)",
   "language": "python",
   "name": "openff-nagl-test"
  },
  "language_info": {
   "codemirror_mode": {
    "name": "ipython",
    "version": 3
   },
   "file_extension": ".py",
   "mimetype": "text/x-python",
   "name": "python",
   "nbconvert_exporter": "python",
   "pygments_lexer": "ipython3",
   "version": "3.10.13"
  }
 },
 "nbformat": 4,
 "nbformat_minor": 5
}
